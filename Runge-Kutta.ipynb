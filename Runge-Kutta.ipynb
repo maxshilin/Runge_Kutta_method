{
 "cells": [
  {
   "cell_type": "code",
   "execution_count": 1,
   "metadata": {},
   "outputs": [],
   "source": [
    "import numpy as np\n",
    "import matplotlib.pyplot as plt\n",
    "from numba import njit"
   ]
  },
  {
   "cell_type": "code",
   "execution_count": 26,
   "metadata": {},
   "outputs": [],
   "source": [
    "@njit\n",
    "def F(tt, y):  # правая часть дифференциального уравнения\n",
    "    f = np.empty(8, np.float64)\n",
    "    d = ((y[0] - y[4]) ** 2 + (y[1] - y[5]) ** 2) ** -1.5\n",
    "    f[0] = y[2]\n",
    "    f[1] = y[3]\n",
    "    f[2] = k * q1 * q2 * d * (y[0] - y[4]) / m1\n",
    "    f[3] = k * q1 * q2 * d * (y[1] - y[5]) / m1\n",
    "    f[4] = y[6]\n",
    "    f[5] = y[7]\n",
    "    f[6] = k * q1 * q2 * d * (-y[0] + y[4]) / m2\n",
    "    f[7] = k * q1 * q2 * d * (-y[1] + y[5]) / m2\n",
    "    return f\n",
    "\n",
    "\n",
    "@njit\n",
    "def StepRK(tt, y, hh):\n",
    "    y1 = hh * F(tt, y)\n",
    "    y2 = hh * F(tt + hh / 2, y + y1 / 2)\n",
    "    y3 = hh * F(tt + hh / 2, y + y2 / 2)\n",
    "    y4 = hh * F(tt + hh, y + y3)\n",
    "    Y = y + (y1 + 2 * y2 + 2 * y3 + y4) / 6\n",
    "    return Y\n",
    "\n",
    "\n",
    "@njit\n",
    "def Solve(u, h, N):\n",
    "    for i in range(1, N):\n",
    "        u[:, i] = StepRK(i * h, u[:, i - 1], h)\n",
    "    return u"
   ]
  },
  {
   "cell_type": "code",
   "execution_count": 27,
   "metadata": {},
   "outputs": [],
   "source": [
    "mp = 1.673 * 10**-27\n",
    "m1, m2 = 64 * mp, 28 * mp\n",
    "e = 1.6 * 10**-19\n",
    "k = 9 * 10**9\n",
    "q1, q2 = 29 * e, 14 * e\n",
    "p, L, Vx = 2 * 10**-9, 10**-8, 2 * 10**4\n",
    "\n",
    "h = 10**-17  # шаг\n",
    "t0, t = 0, 10**-12  # рассматриваемая область по t\n",
    "N = int((t - t0) / h)  # количество шагов по x и t\n",
    "u = np.zeros((8, N), np.float64)  # массив для записи решения\n",
    "u[0, 0] = 0  # начальное условие по x1\n",
    "u[1, 0] = p  # начальное условие по y1\n",
    "u[2, 0] = Vx  # начальное условие по Vx1\n",
    "u[3, 0] = 0  # начальное условие по Vy1\n",
    "u[4, 0] = (L**2 - p**2) ** 0.5  # начальное условие по x2\n",
    "u[5, 0] = 0  # начальное условие по y2\n",
    "u[6, 0] = 0  # начальное условие по Vx2\n",
    "u[7, 0] = 0  # начальное условие по Vy2"
   ]
  },
  {
   "cell_type": "code",
   "execution_count": 30,
   "metadata": {},
   "outputs": [],
   "source": [
    "u = Solve(u, h, N)  # поиск численного решения"
   ]
  },
  {
   "cell_type": "code",
   "execution_count": 31,
   "metadata": {},
   "outputs": [
    {
     "data": {
      "image/png": "[encoded data removed]",
      "text/plain": [
       "<Figure size 432x288 with 1 Axes>"
      ]
     },
     "metadata": {
      "needs_background": "light"
     },
     "output_type": "display_data"
    }
   ],
   "source": [
    "fig2, ax2 = plt.subplots()\n",
    "ax2.plot(u[0, :], u[1, :], label=\"Первая частица\")\n",
    "ax2.plot(u[4, :], u[5, :], label=\"Вторая частица\")\n",
    "\n",
    "ax2.set(xlabel=\"x\", ylabel=\"y\", title=\"Зависимости движения заряженных частиц\")\n",
    "ax2.grid()\n",
    "ax2.legend()\n",
    "plt.show()"
   ]
  },
  {
   "cell_type": "code",
   "execution_count": null,
   "metadata": {},
   "outputs": [],
   "source": []
  }
 ],
 "metadata": {
  "kernelspec": {
   "display_name": "Python 3.9.12 ('base')",
   "language": "python",
   "name": "python3"
  },
  "language_info": {
   "codemirror_mode": {
    "name": "ipython",
    "version": 3
   },
   "file_extension": ".py",
   "mimetype": "text/x-python",
   "name": "python",
   "nbconvert_exporter": "python",
   "pygments_lexer": "ipython3",
   "version": "3.9.12"
  },
  "orig_nbformat": 4,
  "vscode": {
   "interpreter": {
    "hash": "c2032020440b0bd724902a671edb93f8cebb68488612e100320a0417abc157de"
   }
  }
 },
 "nbformat": 4,
 "nbformat_minor": 2
}
